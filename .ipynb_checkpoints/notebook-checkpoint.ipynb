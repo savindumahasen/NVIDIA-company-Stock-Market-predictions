{
 "cells": [
  {
   "cell_type": "markdown",
   "id": "fdebc516-69ac-4bc6-a0a8-eac4549a5f4b",
   "metadata": {},
   "source": [
    "##  NVIDIA Company Current Stock Market Price Predictions"
   ]
  },
  {
   "cell_type": "code",
   "execution_count": 16,
   "id": "c2ffa900-832b-4a30-aa29-d83f67b7aa82",
   "metadata": {},
   "outputs": [],
   "source": [
    "## import the necessary libraries\n",
    "import pandas as pd\n",
    "import numpy as np\n",
    "import matplotlib.pyplot as plt\n",
    "import seaborn as sns"
   ]
  },
  {
   "cell_type": "code",
   "execution_count": 17,
   "id": "355f3c42-28c3-48b3-a576-90edf2b28b0a",
   "metadata": {},
   "outputs": [],
   "source": [
    "## import the dataset"
   ]
  },
  {
   "cell_type": "code",
   "execution_count": 18,
   "id": "209b2966-4d4b-44ac-a200-9516d5e5c1bd",
   "metadata": {},
   "outputs": [
    {
     "data": {
      "text/html": [
       "<div>\n",
       "<style scoped>\n",
       "    .dataframe tbody tr th:only-of-type {\n",
       "        vertical-align: middle;\n",
       "    }\n",
       "\n",
       "    .dataframe tbody tr th {\n",
       "        vertical-align: top;\n",
       "    }\n",
       "\n",
       "    .dataframe thead th {\n",
       "        text-align: right;\n",
       "    }\n",
       "</style>\n",
       "<table border=\"1\" class=\"dataframe\">\n",
       "  <thead>\n",
       "    <tr style=\"text-align: right;\">\n",
       "      <th></th>\n",
       "      <th>Date</th>\n",
       "      <th>Price</th>\n",
       "      <th>Open</th>\n",
       "      <th>High</th>\n",
       "      <th>Low</th>\n",
       "      <th>Vol.</th>\n",
       "      <th>Change %</th>\n",
       "    </tr>\n",
       "  </thead>\n",
       "  <tbody>\n",
       "    <tr>\n",
       "      <th>0</th>\n",
       "      <td>7/7/2025</td>\n",
       "      <td>158.24</td>\n",
       "      <td>158.20</td>\n",
       "      <td>159.31</td>\n",
       "      <td>157.34</td>\n",
       "      <td>140.14M</td>\n",
       "      <td>-0.69%</td>\n",
       "    </tr>\n",
       "    <tr>\n",
       "      <th>1</th>\n",
       "      <td>7/3/2025</td>\n",
       "      <td>159.34</td>\n",
       "      <td>158.37</td>\n",
       "      <td>160.98</td>\n",
       "      <td>157.77</td>\n",
       "      <td>143.72M</td>\n",
       "      <td>1.33%</td>\n",
       "    </tr>\n",
       "    <tr>\n",
       "      <th>2</th>\n",
       "      <td>7/2/2025</td>\n",
       "      <td>157.25</td>\n",
       "      <td>152.98</td>\n",
       "      <td>157.60</td>\n",
       "      <td>152.97</td>\n",
       "      <td>171.22M</td>\n",
       "      <td>2.58%</td>\n",
       "    </tr>\n",
       "    <tr>\n",
       "      <th>3</th>\n",
       "      <td>7/1/2025</td>\n",
       "      <td>153.30</td>\n",
       "      <td>156.29</td>\n",
       "      <td>157.20</td>\n",
       "      <td>151.49</td>\n",
       "      <td>213.14M</td>\n",
       "      <td>-2.97%</td>\n",
       "    </tr>\n",
       "    <tr>\n",
       "      <th>4</th>\n",
       "      <td>6/30/2025</td>\n",
       "      <td>157.99</td>\n",
       "      <td>158.40</td>\n",
       "      <td>158.66</td>\n",
       "      <td>155.96</td>\n",
       "      <td>194.58M</td>\n",
       "      <td>0.15%</td>\n",
       "    </tr>\n",
       "  </tbody>\n",
       "</table>\n",
       "</div>"
      ],
      "text/plain": [
       "        Date   Price    Open    High     Low     Vol. Change %\n",
       "0   7/7/2025  158.24  158.20  159.31  157.34  140.14M   -0.69%\n",
       "1   7/3/2025  159.34  158.37  160.98  157.77  143.72M    1.33%\n",
       "2   7/2/2025  157.25  152.98  157.60  152.97  171.22M    2.58%\n",
       "3   7/1/2025  153.30  156.29  157.20  151.49  213.14M   -2.97%\n",
       "4  6/30/2025  157.99  158.40  158.66  155.96  194.58M    0.15%"
      ]
     },
     "execution_count": 18,
     "metadata": {},
     "output_type": "execute_result"
    }
   ],
   "source": [
    "dataset=pd.read_csv(\"NVIDIA Stock Price History.csv\")\n",
    "dataset.head()"
   ]
  },
  {
   "cell_type": "code",
   "execution_count": 19,
   "id": "e9279751-f3b8-48f2-8212-7c8bcd2ae486",
   "metadata": {},
   "outputs": [],
   "source": [
    "# check the dataset type"
   ]
  },
  {
   "cell_type": "code",
   "execution_count": 20,
   "id": "824c5ac5-4bc1-431a-b471-d91453f3b6fe",
   "metadata": {},
   "outputs": [
    {
     "data": {
      "text/plain": [
       "(5004, 7)"
      ]
     },
     "execution_count": 20,
     "metadata": {},
     "output_type": "execute_result"
    }
   ],
   "source": [
    "dataset.shape"
   ]
  },
  {
   "cell_type": "code",
   "execution_count": null,
   "id": "e5c65e6d-6232-4386-adc4-a1395533bd70",
   "metadata": {},
   "outputs": [],
   "source": []
  }
 ],
 "metadata": {
  "kernelspec": {
   "display_name": "Python 3 (ipykernel)",
   "language": "python",
   "name": "python3"
  },
  "language_info": {
   "codemirror_mode": {
    "name": "ipython",
    "version": 3
   },
   "file_extension": ".py",
   "mimetype": "text/x-python",
   "name": "python",
   "nbconvert_exporter": "python",
   "pygments_lexer": "ipython3",
   "version": "3.12.1"
  }
 },
 "nbformat": 4,
 "nbformat_minor": 5
}
