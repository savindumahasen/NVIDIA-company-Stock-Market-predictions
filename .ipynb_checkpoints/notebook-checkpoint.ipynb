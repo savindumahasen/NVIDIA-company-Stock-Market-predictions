{
 "cells": [
  {
   "cell_type": "markdown",
   "id": "fdebc516-69ac-4bc6-a0a8-eac4549a5f4b",
   "metadata": {},
   "source": [
    "##  NVIDIA Company Current Stock Market Price Predictions"
   ]
  },
  {
   "cell_type": "code",
   "execution_count": 16,
   "id": "c2ffa900-832b-4a30-aa29-d83f67b7aa82",
   "metadata": {},
   "outputs": [],
   "source": [
    "## import the necessary libraries\n",
    "import pandas as pd\n",
    "import numpy as np\n",
    "import matplotlib.pyplot as plt\n",
    "import seaborn as sns"
   ]
  },
  {
   "cell_type": "code",
   "execution_count": 17,
   "id": "355f3c42-28c3-48b3-a576-90edf2b28b0a",
   "metadata": {},
   "outputs": [],
   "source": [
    "## import the dataset"
   ]
  },
  {
   "cell_type": "code",
   "execution_count": 18,
   "id": "209b2966-4d4b-44ac-a200-9516d5e5c1bd",
   "metadata": {},
   "outputs": [
    {
     "data": {
      "text/html": [
       "<div>\n",
       "<style scoped>\n",
       "    .dataframe tbody tr th:only-of-type {\n",
       "        vertical-align: middle;\n",
       "    }\n",
       "\n",
       "    .dataframe tbody tr th {\n",
       "        vertical-align: top;\n",
       "    }\n",
       "\n",
       "    .dataframe thead th {\n",
       "        text-align: right;\n",
       "    }\n",
       "</style>\n",
       "<table border=\"1\" class=\"dataframe\">\n",
       "  <thead>\n",
       "    <tr style=\"text-align: right;\">\n",
       "      <th></th>\n",
       "      <th>Date</th>\n",
       "      <th>Price</th>\n",
       "      <th>Open</th>\n",
       "      <th>High</th>\n",
       "      <th>Low</th>\n",
       "      <th>Vol.</th>\n",
       "      <th>Change %</th>\n",
       "    </tr>\n",
       "  </thead>\n",
       "  <tbody>\n",
       "    <tr>\n",
       "      <th>0</th>\n",
       "      <td>7/7/2025</td>\n",
       "      <td>158.24</td>\n",
       "      <td>158.20</td>\n",
       "      <td>159.31</td>\n",
       "      <td>157.34</td>\n",
       "      <td>140.14M</td>\n",
       "      <td>-0.69%</td>\n",
       "    </tr>\n",
       "    <tr>\n",
       "      <th>1</th>\n",
       "      <td>7/3/2025</td>\n",
       "      <td>159.34</td>\n",
       "      <td>158.37</td>\n",
       "      <td>160.98</td>\n",
       "      <td>157.77</td>\n",
       "      <td>143.72M</td>\n",
       "      <td>1.33%</td>\n",
       "    </tr>\n",
       "    <tr>\n",
       "      <th>2</th>\n",
       "      <td>7/2/2025</td>\n",
       "      <td>157.25</td>\n",
       "      <td>152.98</td>\n",
       "      <td>157.60</td>\n",
       "      <td>152.97</td>\n",
       "      <td>171.22M</td>\n",
       "      <td>2.58%</td>\n",
       "    </tr>\n",
       "    <tr>\n",
       "      <th>3</th>\n",
       "      <td>7/1/2025</td>\n",
       "      <td>153.30</td>\n",
       "      <td>156.29</td>\n",
       "      <td>157.20</td>\n",
       "      <td>151.49</td>\n",
       "      <td>213.14M</td>\n",
       "      <td>-2.97%</td>\n",
       "    </tr>\n",
       "    <tr>\n",
       "      <th>4</th>\n",
       "      <td>6/30/2025</td>\n",
       "      <td>157.99</td>\n",
       "      <td>158.40</td>\n",
       "      <td>158.66</td>\n",
       "      <td>155.96</td>\n",
       "      <td>194.58M</td>\n",
       "      <td>0.15%</td>\n",
       "    </tr>\n",
       "  </tbody>\n",
       "</table>\n",
       "</div>"
      ],
      "text/plain": [
       "        Date   Price    Open    High     Low     Vol. Change %\n",
       "0   7/7/2025  158.24  158.20  159.31  157.34  140.14M   -0.69%\n",
       "1   7/3/2025  159.34  158.37  160.98  157.77  143.72M    1.33%\n",
       "2   7/2/2025  157.25  152.98  157.60  152.97  171.22M    2.58%\n",
       "3   7/1/2025  153.30  156.29  157.20  151.49  213.14M   -2.97%\n",
       "4  6/30/2025  157.99  158.40  158.66  155.96  194.58M    0.15%"
      ]
     },
     "execution_count": 18,
     "metadata": {},
     "output_type": "execute_result"
    }
   ],
   "source": [
    "dataset=pd.read_csv(\"NVIDIA Stock Price History.csv\")\n",
    "dataset.head()"
   ]
  },
  {
   "cell_type": "code",
   "execution_count": 19,
   "id": "e9279751-f3b8-48f2-8212-7c8bcd2ae486",
   "metadata": {},
   "outputs": [],
   "source": [
    "# check the dataset type"
   ]
  },
  {
   "cell_type": "code",
   "execution_count": 20,
   "id": "824c5ac5-4bc1-431a-b471-d91453f3b6fe",
   "metadata": {},
   "outputs": [
    {
     "data": {
      "text/plain": [
       "(5004, 7)"
      ]
     },
     "execution_count": 20,
     "metadata": {},
     "output_type": "execute_result"
    }
   ],
   "source": [
    "dataset.shape"
   ]
  },
  {
   "cell_type": "code",
   "execution_count": 21,
   "id": "e5c65e6d-6232-4386-adc4-a1395533bd70",
   "metadata": {},
   "outputs": [],
   "source": [
    "## check the information of the dataset"
   ]
  },
  {
   "cell_type": "code",
   "execution_count": 22,
   "id": "5dbb9180-92ed-4501-af22-ab6d012f0690",
   "metadata": {},
   "outputs": [
    {
     "name": "stdout",
     "output_type": "stream",
     "text": [
      "<class 'pandas.core.frame.DataFrame'>\n",
      "RangeIndex: 5004 entries, 0 to 5003\n",
      "Data columns (total 7 columns):\n",
      " #   Column    Non-Null Count  Dtype  \n",
      "---  ------    --------------  -----  \n",
      " 0   Date      5004 non-null   object \n",
      " 1   Price     5004 non-null   float64\n",
      " 2   Open      5004 non-null   float64\n",
      " 3   High      5004 non-null   float64\n",
      " 4   Low       5004 non-null   float64\n",
      " 5   Vol.      5004 non-null   object \n",
      " 6   Change %  5004 non-null   object \n",
      "dtypes: float64(4), object(3)\n",
      "memory usage: 273.8+ KB\n"
     ]
    }
   ],
   "source": [
    "dataset.info()"
   ]
  },
  {
   "cell_type": "code",
   "execution_count": 23,
   "id": "d60bdacf-db2e-4762-9147-dbfbec01b50b",
   "metadata": {},
   "outputs": [],
   "source": [
    "## check the null values of the dataset"
   ]
  },
  {
   "cell_type": "code",
   "execution_count": 24,
   "id": "78f02d5c-bd71-41ca-a0dd-57340b4775fa",
   "metadata": {},
   "outputs": [
    {
     "data": {
      "text/plain": [
       "Date        0\n",
       "Price       0\n",
       "Open        0\n",
       "High        0\n",
       "Low         0\n",
       "Vol.        0\n",
       "Change %    0\n",
       "dtype: int64"
      ]
     },
     "execution_count": 24,
     "metadata": {},
     "output_type": "execute_result"
    }
   ],
   "source": [
    "dataset.isnull().sum()"
   ]
  },
  {
   "cell_type": "markdown",
   "id": "5ac747f3-0dbd-4b4c-b4fc-8dbfc4fa6c2c",
   "metadata": {},
   "source": [
    "## Data Preprocessing"
   ]
  },
  {
   "cell_type": "code",
   "execution_count": 41,
   "id": "a027372d-25b0-4d20-b339-9a196c4e216f",
   "metadata": {},
   "outputs": [],
   "source": [
    "## convert the object types columns to  numerical format"
   ]
  },
  {
   "cell_type": "code",
   "execution_count": 45,
   "id": "6462ece7-5644-4c4f-80cc-702925f46a84",
   "metadata": {},
   "outputs": [
    {
     "data": {
      "text/plain": [
       "0     772025\n",
       "1     732025\n",
       "2     722025\n",
       "3     712025\n",
       "4    6302025\n",
       "Name: date(MM/DD/YYYY), dtype: int32"
      ]
     },
     "execution_count": 45,
     "metadata": {},
     "output_type": "execute_result"
    }
   ],
   "source": [
    "dataset['date(MM/DD/YYYY)'] = dataset['Date'].str.replace('/', '').astype(int)\n",
    "dataset['date(MM/DD/YYYY)'].head()"
   ]
  },
  {
   "cell_type": "code",
   "execution_count": 46,
   "id": "a1df4dcc-c863-47f1-96d5-ffb09326357c",
   "metadata": {},
   "outputs": [],
   "source": [
    "## chekck the information of the dataset again"
   ]
  },
  {
   "cell_type": "code",
   "execution_count": 47,
   "id": "107afe4e-2a12-4349-ba2d-919ad7426376",
   "metadata": {},
   "outputs": [
    {
     "name": "stdout",
     "output_type": "stream",
     "text": [
      "<class 'pandas.core.frame.DataFrame'>\n",
      "RangeIndex: 5004 entries, 0 to 5003\n",
      "Data columns (total 10 columns):\n",
      " #   Column                    Non-Null Count  Dtype  \n",
      "---  ------                    --------------  -----  \n",
      " 0   Date                      5004 non-null   object \n",
      " 1   Price                     5004 non-null   float64\n",
      " 2   Open                      5004 non-null   float64\n",
      " 3   High                      5004 non-null   float64\n",
      " 4   Low                       5004 non-null   float64\n",
      " 5   Vol.                      5004 non-null   object \n",
      " 6   Change %                  5004 non-null   object \n",
      " 7   date_numeric              5004 non-null   int32  \n",
      " 8   date_numeric(MM/DD/YYYY)  5004 non-null   int32  \n",
      " 9   date(MM/DD/YYYY)          5004 non-null   int32  \n",
      "dtypes: float64(4), int32(3), object(3)\n",
      "memory usage: 332.4+ KB\n"
     ]
    }
   ],
   "source": [
    "dataset.info()"
   ]
  },
  {
   "cell_type": "code",
   "execution_count": 58,
   "id": "b33eee55-c388-4e5f-bced-1115f246db60",
   "metadata": {},
   "outputs": [
    {
     "data": {
      "text/plain": [
       "0   -0.69\n",
       "1    1.33\n",
       "2    2.58\n",
       "3   -2.97\n",
       "4    0.15\n",
       "Name: Change %, dtype: float64"
      ]
     },
     "execution_count": 58,
     "metadata": {},
     "output_type": "execute_result"
    }
   ],
   "source": [
    "dataset['Change %'].head()"
   ]
  },
  {
   "cell_type": "code",
   "execution_count": 62,
   "id": "ae9894c3-bef0-4cf7-84f9-1c8b98e6d3a4",
   "metadata": {},
   "outputs": [
    {
     "data": {
      "text/plain": [
       "0   -0.69\n",
       "1    1.33\n",
       "2    2.58\n",
       "3   -2.97\n",
       "4    0.15\n",
       "Name: Change %, dtype: float64"
      ]
     },
     "execution_count": 62,
     "metadata": {},
     "output_type": "execute_result"
    }
   ],
   "source": [
    "dataset['Change %'] = dataset['Change %'].astype(str).str.replace('%', '').astype(float)\n",
    "dataset['Change %'].head()"
   ]
  },
  {
   "cell_type": "code",
   "execution_count": 63,
   "id": "5c5363f0-c344-42c2-8263-c18ad2779784",
   "metadata": {},
   "outputs": [
    {
     "data": {
      "text/plain": [
       "0    140.14M\n",
       "1    143.72M\n",
       "2    171.22M\n",
       "3    213.14M\n",
       "4    194.58M\n",
       "Name: Vol., dtype: object"
      ]
     },
     "execution_count": 63,
     "metadata": {},
     "output_type": "execute_result"
    }
   ],
   "source": [
    "dataset['Vol.'].head()"
   ]
  },
  {
   "cell_type": "code",
   "execution_count": 74,
   "id": "a159815a-bee2-478a-a990-6f7f8ea2e287",
   "metadata": {},
   "outputs": [
    {
     "name": "stdout",
     "output_type": "stream",
     "text": [
      "<class 'pandas.core.series.Series'>\n",
      "RangeIndex: 5004 entries, 0 to 5003\n",
      "Series name: Vol.\n",
      "Non-Null Count  Dtype \n",
      "--------------  ----- \n",
      "5004 non-null   object\n",
      "dtypes: object(1)\n",
      "memory usage: 39.2+ KB\n"
     ]
    }
   ],
   "source": [
    "dataset['Vol.'].info()"
   ]
  },
  {
   "cell_type": "code",
   "execution_count": 76,
   "id": "367cfb5b-eb55-4451-98bf-5c0a0a806395",
   "metadata": {},
   "outputs": [
    {
     "data": {
      "text/plain": [
       "Vol.\n",
       "1.09B      14\n",
       "1.11B      12\n",
       "1.02B      12\n",
       "1.14B      12\n",
       "1.10B      12\n",
       "           ..\n",
       "703.51M     1\n",
       "525.21M     1\n",
       "747.64M     1\n",
       "824.31M     1\n",
       "510.48M     1\n",
       "Name: count, Length: 4485, dtype: int64"
      ]
     },
     "execution_count": 76,
     "metadata": {},
     "output_type": "execute_result"
    }
   ],
   "source": [
    "dataset['Vol.'].value_counts()"
   ]
  },
  {
   "cell_type": "code",
   "execution_count": 86,
   "id": "c3dd45cc-8f56-4bc9-9291-78b6a3df7a9b",
   "metadata": {},
   "outputs": [],
   "source": [
    "def convert_volume(value):\n",
    "    if isinstance(value, str):\n",
    "        value = value.strip()\n",
    "        if value.endswith('M'):\n",
    "            return float(value[:-1]) * 1e6\n",
    "        elif value.endswith('B'):\n",
    "            return float(value[:-1]) * 1e9\n",
    "        else:\n",
    "            return pd.to_numeric(value, errors='coerce')  # for pure numbers\n",
    "    return value\n",
    "\n",
    "dataset['Vol'] = dataset['Vol.'].apply(convert_volume)\n"
   ]
  },
  {
   "cell_type": "code",
   "execution_count": 87,
   "id": "501a0f98-be43-4fc8-a860-2aea378d8cbf",
   "metadata": {},
   "outputs": [
    {
     "data": {
      "text/plain": [
       "0    140140000.0\n",
       "1    143720000.0\n",
       "2    171220000.0\n",
       "3    213140000.0\n",
       "4    194580000.0\n",
       "Name: Vol, dtype: float64"
      ]
     },
     "execution_count": 87,
     "metadata": {},
     "output_type": "execute_result"
    }
   ],
   "source": [
    "dataset['Vol'].head()"
   ]
  },
  {
   "cell_type": "code",
   "execution_count": 80,
   "id": "e5a57477-aa16-4e40-a084-fc003a323e8c",
   "metadata": {},
   "outputs": [],
   "source": [
    "## Print the dataset"
   ]
  },
  {
   "cell_type": "code",
   "execution_count": 81,
   "id": "c94f5875-642e-4289-8e4c-13cc94b21402",
   "metadata": {},
   "outputs": [
    {
     "data": {
      "text/html": [
       "<div>\n",
       "<style scoped>\n",
       "    .dataframe tbody tr th:only-of-type {\n",
       "        vertical-align: middle;\n",
       "    }\n",
       "\n",
       "    .dataframe tbody tr th {\n",
       "        vertical-align: top;\n",
       "    }\n",
       "\n",
       "    .dataframe thead th {\n",
       "        text-align: right;\n",
       "    }\n",
       "</style>\n",
       "<table border=\"1\" class=\"dataframe\">\n",
       "  <thead>\n",
       "    <tr style=\"text-align: right;\">\n",
       "      <th></th>\n",
       "      <th>Date</th>\n",
       "      <th>Price</th>\n",
       "      <th>Open</th>\n",
       "      <th>High</th>\n",
       "      <th>Low</th>\n",
       "      <th>Vol.</th>\n",
       "      <th>Change %</th>\n",
       "      <th>date_numeric</th>\n",
       "      <th>date_numeric(MM/DD/YYYY)</th>\n",
       "      <th>date(MM/DD/YYYY)</th>\n",
       "      <th>Vol</th>\n",
       "    </tr>\n",
       "  </thead>\n",
       "  <tbody>\n",
       "    <tr>\n",
       "      <th>0</th>\n",
       "      <td>7/7/2025</td>\n",
       "      <td>158.24</td>\n",
       "      <td>158.20</td>\n",
       "      <td>159.31</td>\n",
       "      <td>157.34</td>\n",
       "      <td>140.14M</td>\n",
       "      <td>-0.69</td>\n",
       "      <td>772025</td>\n",
       "      <td>772025</td>\n",
       "      <td>772025</td>\n",
       "      <td>140140000.0</td>\n",
       "    </tr>\n",
       "    <tr>\n",
       "      <th>1</th>\n",
       "      <td>7/3/2025</td>\n",
       "      <td>159.34</td>\n",
       "      <td>158.37</td>\n",
       "      <td>160.98</td>\n",
       "      <td>157.77</td>\n",
       "      <td>143.72M</td>\n",
       "      <td>1.33</td>\n",
       "      <td>732025</td>\n",
       "      <td>732025</td>\n",
       "      <td>732025</td>\n",
       "      <td>143720000.0</td>\n",
       "    </tr>\n",
       "    <tr>\n",
       "      <th>2</th>\n",
       "      <td>7/2/2025</td>\n",
       "      <td>157.25</td>\n",
       "      <td>152.98</td>\n",
       "      <td>157.60</td>\n",
       "      <td>152.97</td>\n",
       "      <td>171.22M</td>\n",
       "      <td>2.58</td>\n",
       "      <td>722025</td>\n",
       "      <td>722025</td>\n",
       "      <td>722025</td>\n",
       "      <td>171220000.0</td>\n",
       "    </tr>\n",
       "    <tr>\n",
       "      <th>3</th>\n",
       "      <td>7/1/2025</td>\n",
       "      <td>153.30</td>\n",
       "      <td>156.29</td>\n",
       "      <td>157.20</td>\n",
       "      <td>151.49</td>\n",
       "      <td>213.14M</td>\n",
       "      <td>-2.97</td>\n",
       "      <td>712025</td>\n",
       "      <td>712025</td>\n",
       "      <td>712025</td>\n",
       "      <td>213140000.0</td>\n",
       "    </tr>\n",
       "    <tr>\n",
       "      <th>4</th>\n",
       "      <td>6/30/2025</td>\n",
       "      <td>157.99</td>\n",
       "      <td>158.40</td>\n",
       "      <td>158.66</td>\n",
       "      <td>155.96</td>\n",
       "      <td>194.58M</td>\n",
       "      <td>0.15</td>\n",
       "      <td>6302025</td>\n",
       "      <td>6302025</td>\n",
       "      <td>6302025</td>\n",
       "      <td>194580000.0</td>\n",
       "    </tr>\n",
       "  </tbody>\n",
       "</table>\n",
       "</div>"
      ],
      "text/plain": [
       "        Date   Price    Open    High     Low     Vol.  Change %  date_numeric  \\\n",
       "0   7/7/2025  158.24  158.20  159.31  157.34  140.14M     -0.69        772025   \n",
       "1   7/3/2025  159.34  158.37  160.98  157.77  143.72M      1.33        732025   \n",
       "2   7/2/2025  157.25  152.98  157.60  152.97  171.22M      2.58        722025   \n",
       "3   7/1/2025  153.30  156.29  157.20  151.49  213.14M     -2.97        712025   \n",
       "4  6/30/2025  157.99  158.40  158.66  155.96  194.58M      0.15       6302025   \n",
       "\n",
       "   date_numeric(MM/DD/YYYY)  date(MM/DD/YYYY)          Vol  \n",
       "0                    772025            772025  140140000.0  \n",
       "1                    732025            732025  143720000.0  \n",
       "2                    722025            722025  171220000.0  \n",
       "3                    712025            712025  213140000.0  \n",
       "4                   6302025           6302025  194580000.0  "
      ]
     },
     "execution_count": 81,
     "metadata": {},
     "output_type": "execute_result"
    }
   ],
   "source": [
    "dataset.head()"
   ]
  },
  {
   "cell_type": "code",
   "execution_count": 82,
   "id": "5d572504-cb4b-498e-b18b-5d8c87a1c321",
   "metadata": {},
   "outputs": [],
   "source": [
    "## drop the unnecessary columns  or duplicate columns"
   ]
  },
  {
   "cell_type": "code",
   "execution_count": 83,
   "id": "febf3f41-3dc0-4c07-8afb-0b31ecfc7006",
   "metadata": {},
   "outputs": [
    {
     "data": {
      "text/html": [
       "<div>\n",
       "<style scoped>\n",
       "    .dataframe tbody tr th:only-of-type {\n",
       "        vertical-align: middle;\n",
       "    }\n",
       "\n",
       "    .dataframe tbody tr th {\n",
       "        vertical-align: top;\n",
       "    }\n",
       "\n",
       "    .dataframe thead th {\n",
       "        text-align: right;\n",
       "    }\n",
       "</style>\n",
       "<table border=\"1\" class=\"dataframe\">\n",
       "  <thead>\n",
       "    <tr style=\"text-align: right;\">\n",
       "      <th></th>\n",
       "      <th>Price</th>\n",
       "      <th>Open</th>\n",
       "      <th>High</th>\n",
       "      <th>Low</th>\n",
       "      <th>Change %</th>\n",
       "      <th>date(MM/DD/YYYY)</th>\n",
       "      <th>Vol</th>\n",
       "    </tr>\n",
       "  </thead>\n",
       "  <tbody>\n",
       "    <tr>\n",
       "      <th>0</th>\n",
       "      <td>158.24</td>\n",
       "      <td>158.20</td>\n",
       "      <td>159.31</td>\n",
       "      <td>157.34</td>\n",
       "      <td>-0.69</td>\n",
       "      <td>772025</td>\n",
       "      <td>140140000.0</td>\n",
       "    </tr>\n",
       "    <tr>\n",
       "      <th>1</th>\n",
       "      <td>159.34</td>\n",
       "      <td>158.37</td>\n",
       "      <td>160.98</td>\n",
       "      <td>157.77</td>\n",
       "      <td>1.33</td>\n",
       "      <td>732025</td>\n",
       "      <td>143720000.0</td>\n",
       "    </tr>\n",
       "    <tr>\n",
       "      <th>2</th>\n",
       "      <td>157.25</td>\n",
       "      <td>152.98</td>\n",
       "      <td>157.60</td>\n",
       "      <td>152.97</td>\n",
       "      <td>2.58</td>\n",
       "      <td>722025</td>\n",
       "      <td>171220000.0</td>\n",
       "    </tr>\n",
       "    <tr>\n",
       "      <th>3</th>\n",
       "      <td>153.30</td>\n",
       "      <td>156.29</td>\n",
       "      <td>157.20</td>\n",
       "      <td>151.49</td>\n",
       "      <td>-2.97</td>\n",
       "      <td>712025</td>\n",
       "      <td>213140000.0</td>\n",
       "    </tr>\n",
       "    <tr>\n",
       "      <th>4</th>\n",
       "      <td>157.99</td>\n",
       "      <td>158.40</td>\n",
       "      <td>158.66</td>\n",
       "      <td>155.96</td>\n",
       "      <td>0.15</td>\n",
       "      <td>6302025</td>\n",
       "      <td>194580000.0</td>\n",
       "    </tr>\n",
       "  </tbody>\n",
       "</table>\n",
       "</div>"
      ],
      "text/plain": [
       "    Price    Open    High     Low  Change %  date(MM/DD/YYYY)          Vol\n",
       "0  158.24  158.20  159.31  157.34     -0.69            772025  140140000.0\n",
       "1  159.34  158.37  160.98  157.77      1.33            732025  143720000.0\n",
       "2  157.25  152.98  157.60  152.97      2.58            722025  171220000.0\n",
       "3  153.30  156.29  157.20  151.49     -2.97            712025  213140000.0\n",
       "4  157.99  158.40  158.66  155.96      0.15           6302025  194580000.0"
      ]
     },
     "execution_count": 83,
     "metadata": {},
     "output_type": "execute_result"
    }
   ],
   "source": [
    "dataset_new=dataset.drop(['Date','date_numeric','date_numeric(MM/DD/YYYY)','Vol.'], axis=1)\n",
    "dataset_new.head()"
   ]
  },
  {
   "cell_type": "code",
   "execution_count": 89,
   "id": "3c470290-0b8e-4e87-aad5-90cfbd3a237f",
   "metadata": {},
   "outputs": [],
   "source": [
    "## Sperate the target column and  independent features"
   ]
  },
  {
   "cell_type": "code",
   "execution_count": 91,
   "id": "21f6a77d-7aed-4c08-9688-dfbe298908f6",
   "metadata": {},
   "outputs": [
    {
     "data": {
      "text/html": [
       "<div>\n",
       "<style scoped>\n",
       "    .dataframe tbody tr th:only-of-type {\n",
       "        vertical-align: middle;\n",
       "    }\n",
       "\n",
       "    .dataframe tbody tr th {\n",
       "        vertical-align: top;\n",
       "    }\n",
       "\n",
       "    .dataframe thead th {\n",
       "        text-align: right;\n",
       "    }\n",
       "</style>\n",
       "<table border=\"1\" class=\"dataframe\">\n",
       "  <thead>\n",
       "    <tr style=\"text-align: right;\">\n",
       "      <th></th>\n",
       "      <th>Open</th>\n",
       "      <th>High</th>\n",
       "      <th>Low</th>\n",
       "      <th>Change %</th>\n",
       "      <th>date(MM/DD/YYYY)</th>\n",
       "      <th>Vol</th>\n",
       "    </tr>\n",
       "  </thead>\n",
       "  <tbody>\n",
       "    <tr>\n",
       "      <th>0</th>\n",
       "      <td>158.20</td>\n",
       "      <td>159.31</td>\n",
       "      <td>157.34</td>\n",
       "      <td>-0.69</td>\n",
       "      <td>772025</td>\n",
       "      <td>140140000.0</td>\n",
       "    </tr>\n",
       "    <tr>\n",
       "      <th>1</th>\n",
       "      <td>158.37</td>\n",
       "      <td>160.98</td>\n",
       "      <td>157.77</td>\n",
       "      <td>1.33</td>\n",
       "      <td>732025</td>\n",
       "      <td>143720000.0</td>\n",
       "    </tr>\n",
       "    <tr>\n",
       "      <th>2</th>\n",
       "      <td>152.98</td>\n",
       "      <td>157.60</td>\n",
       "      <td>152.97</td>\n",
       "      <td>2.58</td>\n",
       "      <td>722025</td>\n",
       "      <td>171220000.0</td>\n",
       "    </tr>\n",
       "    <tr>\n",
       "      <th>3</th>\n",
       "      <td>156.29</td>\n",
       "      <td>157.20</td>\n",
       "      <td>151.49</td>\n",
       "      <td>-2.97</td>\n",
       "      <td>712025</td>\n",
       "      <td>213140000.0</td>\n",
       "    </tr>\n",
       "    <tr>\n",
       "      <th>4</th>\n",
       "      <td>158.40</td>\n",
       "      <td>158.66</td>\n",
       "      <td>155.96</td>\n",
       "      <td>0.15</td>\n",
       "      <td>6302025</td>\n",
       "      <td>194580000.0</td>\n",
       "    </tr>\n",
       "  </tbody>\n",
       "</table>\n",
       "</div>"
      ],
      "text/plain": [
       "     Open    High     Low  Change %  date(MM/DD/YYYY)          Vol\n",
       "0  158.20  159.31  157.34     -0.69            772025  140140000.0\n",
       "1  158.37  160.98  157.77      1.33            732025  143720000.0\n",
       "2  152.98  157.60  152.97      2.58            722025  171220000.0\n",
       "3  156.29  157.20  151.49     -2.97            712025  213140000.0\n",
       "4  158.40  158.66  155.96      0.15           6302025  194580000.0"
      ]
     },
     "execution_count": 91,
     "metadata": {},
     "output_type": "execute_result"
    }
   ],
   "source": [
    "x=dataset_new.drop('Price',axis=1)\n",
    "x.head()"
   ]
  },
  {
   "cell_type": "code",
   "execution_count": 92,
   "id": "4c3e452e-ae3d-4209-9f46-75f6f50081d5",
   "metadata": {},
   "outputs": [
    {
     "data": {
      "text/plain": [
       "0    158.24\n",
       "1    159.34\n",
       "2    157.25\n",
       "3    153.30\n",
       "4    157.99\n",
       "Name: Price, dtype: float64"
      ]
     },
     "execution_count": 92,
     "metadata": {},
     "output_type": "execute_result"
    }
   ],
   "source": [
    "y=dataset_new['Price']\n",
    "y.head()"
   ]
  },
  {
   "cell_type": "code",
   "execution_count": 94,
   "id": "10fb4f36-8ec5-44a7-bb4b-2ce81739224c",
   "metadata": {},
   "outputs": [
    {
     "data": {
      "text/plain": [
       "array([[ 4.64289089,  4.58865381,  4.7199883 , -0.03087937, -1.05525959,\n",
       "        -0.93190952],\n",
       "       [ 4.64835671,  4.64140729,  4.7341003 ,  0.00556343, -1.06540278,\n",
       "        -0.92380929],\n",
       "       [ 4.47505794,  4.53463678,  4.57657099,  0.02811468, -1.06793857,\n",
       "        -0.86158686],\n",
       "       ...,\n",
       "       [-0.4422544 , -0.44251162, -0.44237827, -0.01843109, -0.92847631,\n",
       "        -0.69607518],\n",
       "       [-0.44193288, -0.44219573, -0.44237827, -0.37925097, -0.93101211,\n",
       "        -0.47245905],\n",
       "       [-0.4422544 , -0.44219573, -0.44237827,  0.43259376, -0.9335479 ,\n",
       "        -0.09396562]])"
      ]
     },
     "execution_count": 94,
     "metadata": {},
     "output_type": "execute_result"
    }
   ],
   "source": [
    "## scale the data using StandardScaler\n",
    "from sklearn.preprocessing  import StandardScaler\n",
    "std_scaler=StandardScaler()\n",
    "std_scaled_data=std_scaler.fit_transform(x)\n",
    "std_scaled_data"
   ]
  },
  {
   "cell_type": "code",
   "execution_count": 95,
   "id": "1f719326-6f77-468d-9937-f06191594228",
   "metadata": {},
   "outputs": [
    {
     "data": {
      "text/html": [
       "<div>\n",
       "<style scoped>\n",
       "    .dataframe tbody tr th:only-of-type {\n",
       "        vertical-align: middle;\n",
       "    }\n",
       "\n",
       "    .dataframe tbody tr th {\n",
       "        vertical-align: top;\n",
       "    }\n",
       "\n",
       "    .dataframe thead th {\n",
       "        text-align: right;\n",
       "    }\n",
       "</style>\n",
       "<table border=\"1\" class=\"dataframe\">\n",
       "  <thead>\n",
       "    <tr style=\"text-align: right;\">\n",
       "      <th></th>\n",
       "      <th>Open</th>\n",
       "      <th>High</th>\n",
       "      <th>Low</th>\n",
       "      <th>Change %</th>\n",
       "      <th>date(MM/DD/YYYY)</th>\n",
       "      <th>Vol</th>\n",
       "    </tr>\n",
       "  </thead>\n",
       "  <tbody>\n",
       "    <tr>\n",
       "      <th>0</th>\n",
       "      <td>4.642891</td>\n",
       "      <td>4.588654</td>\n",
       "      <td>4.719988</td>\n",
       "      <td>-0.030879</td>\n",
       "      <td>-1.055260</td>\n",
       "      <td>-0.931910</td>\n",
       "    </tr>\n",
       "    <tr>\n",
       "      <th>1</th>\n",
       "      <td>4.648357</td>\n",
       "      <td>4.641407</td>\n",
       "      <td>4.734100</td>\n",
       "      <td>0.005563</td>\n",
       "      <td>-1.065403</td>\n",
       "      <td>-0.923809</td>\n",
       "    </tr>\n",
       "    <tr>\n",
       "      <th>2</th>\n",
       "      <td>4.475058</td>\n",
       "      <td>4.534637</td>\n",
       "      <td>4.576571</td>\n",
       "      <td>0.028115</td>\n",
       "      <td>-1.067939</td>\n",
       "      <td>-0.861587</td>\n",
       "    </tr>\n",
       "    <tr>\n",
       "      <th>3</th>\n",
       "      <td>4.581481</td>\n",
       "      <td>4.522001</td>\n",
       "      <td>4.527999</td>\n",
       "      <td>-0.072013</td>\n",
       "      <td>-1.070474</td>\n",
       "      <td>-0.766737</td>\n",
       "    </tr>\n",
       "    <tr>\n",
       "      <th>4</th>\n",
       "      <td>4.649321</td>\n",
       "      <td>4.568121</td>\n",
       "      <td>4.674699</td>\n",
       "      <td>-0.015725</td>\n",
       "      <td>0.347036</td>\n",
       "      <td>-0.808732</td>\n",
       "    </tr>\n",
       "  </tbody>\n",
       "</table>\n",
       "</div>"
      ],
      "text/plain": [
       "       Open      High       Low  Change %  date(MM/DD/YYYY)       Vol\n",
       "0  4.642891  4.588654  4.719988 -0.030879         -1.055260 -0.931910\n",
       "1  4.648357  4.641407  4.734100  0.005563         -1.065403 -0.923809\n",
       "2  4.475058  4.534637  4.576571  0.028115         -1.067939 -0.861587\n",
       "3  4.581481  4.522001  4.527999 -0.072013         -1.070474 -0.766737\n",
       "4  4.649321  4.568121  4.674699 -0.015725          0.347036 -0.808732"
      ]
     },
     "execution_count": 95,
     "metadata": {},
     "output_type": "execute_result"
    }
   ],
   "source": [
    "## convert the scaled data into pandas dataframe\n",
    "scaled_data_pd=pd.DataFrame(std_scaled_data, columns=x.keys())\n",
    "scaled_data_pd.head()"
   ]
  },
  {
   "cell_type": "markdown",
   "id": "0014deb4-89c1-4f67-a47a-771ed023687c",
   "metadata": {},
   "source": [
    "## Explotary Data Analysis (EDA)"
   ]
  },
  {
   "cell_type": "code",
   "execution_count": 99,
   "id": "e4c21b44-e494-4731-a442-5a68c4fb7ba7",
   "metadata": {},
   "outputs": [
    {
     "data": {
      "text/html": [
       "<div>\n",
       "<style scoped>\n",
       "    .dataframe tbody tr th:only-of-type {\n",
       "        vertical-align: middle;\n",
       "    }\n",
       "\n",
       "    .dataframe tbody tr th {\n",
       "        vertical-align: top;\n",
       "    }\n",
       "\n",
       "    .dataframe thead th {\n",
       "        text-align: right;\n",
       "    }\n",
       "</style>\n",
       "<table border=\"1\" class=\"dataframe\">\n",
       "  <thead>\n",
       "    <tr style=\"text-align: right;\">\n",
       "      <th></th>\n",
       "      <th>Price</th>\n",
       "      <th>Open</th>\n",
       "      <th>High</th>\n",
       "      <th>Low</th>\n",
       "      <th>Change %</th>\n",
       "      <th>date(MM/DD/YYYY)</th>\n",
       "      <th>Vol</th>\n",
       "    </tr>\n",
       "  </thead>\n",
       "  <tbody>\n",
       "    <tr>\n",
       "      <th>Price</th>\n",
       "      <td>1.000000</td>\n",
       "      <td>0.999567</td>\n",
       "      <td>0.999786</td>\n",
       "      <td>0.999832</td>\n",
       "      <td>0.008894</td>\n",
       "      <td>-0.009247</td>\n",
       "      <td>-0.176473</td>\n",
       "    </tr>\n",
       "    <tr>\n",
       "      <th>Open</th>\n",
       "      <td>0.999567</td>\n",
       "      <td>1.000000</td>\n",
       "      <td>0.999842</td>\n",
       "      <td>0.999773</td>\n",
       "      <td>0.008325</td>\n",
       "      <td>-0.008672</td>\n",
       "      <td>-0.176166</td>\n",
       "    </tr>\n",
       "    <tr>\n",
       "      <th>High</th>\n",
       "      <td>0.999786</td>\n",
       "      <td>0.999842</td>\n",
       "      <td>1.000000</td>\n",
       "      <td>0.999747</td>\n",
       "      <td>0.008306</td>\n",
       "      <td>-0.009540</td>\n",
       "      <td>-0.175391</td>\n",
       "    </tr>\n",
       "    <tr>\n",
       "      <th>Low</th>\n",
       "      <td>0.999832</td>\n",
       "      <td>0.999773</td>\n",
       "      <td>0.999747</td>\n",
       "      <td>1.000000</td>\n",
       "      <td>0.008927</td>\n",
       "      <td>-0.008520</td>\n",
       "      <td>-0.177346</td>\n",
       "    </tr>\n",
       "    <tr>\n",
       "      <th>Change %</th>\n",
       "      <td>0.008894</td>\n",
       "      <td>0.008325</td>\n",
       "      <td>0.008306</td>\n",
       "      <td>0.008927</td>\n",
       "      <td>1.000000</td>\n",
       "      <td>-0.009798</td>\n",
       "      <td>-0.011353</td>\n",
       "    </tr>\n",
       "    <tr>\n",
       "      <th>date(MM/DD/YYYY)</th>\n",
       "      <td>-0.009247</td>\n",
       "      <td>-0.008672</td>\n",
       "      <td>-0.009540</td>\n",
       "      <td>-0.008520</td>\n",
       "      <td>-0.009798</td>\n",
       "      <td>1.000000</td>\n",
       "      <td>-0.038931</td>\n",
       "    </tr>\n",
       "    <tr>\n",
       "      <th>Vol</th>\n",
       "      <td>-0.176473</td>\n",
       "      <td>-0.176166</td>\n",
       "      <td>-0.175391</td>\n",
       "      <td>-0.177346</td>\n",
       "      <td>-0.011353</td>\n",
       "      <td>-0.038931</td>\n",
       "      <td>1.000000</td>\n",
       "    </tr>\n",
       "  </tbody>\n",
       "</table>\n",
       "</div>"
      ],
      "text/plain": [
       "                     Price      Open      High       Low  Change %  \\\n",
       "Price             1.000000  0.999567  0.999786  0.999832  0.008894   \n",
       "Open              0.999567  1.000000  0.999842  0.999773  0.008325   \n",
       "High              0.999786  0.999842  1.000000  0.999747  0.008306   \n",
       "Low               0.999832  0.999773  0.999747  1.000000  0.008927   \n",
       "Change %          0.008894  0.008325  0.008306  0.008927  1.000000   \n",
       "date(MM/DD/YYYY) -0.009247 -0.008672 -0.009540 -0.008520 -0.009798   \n",
       "Vol              -0.176473 -0.176166 -0.175391 -0.177346 -0.011353   \n",
       "\n",
       "                  date(MM/DD/YYYY)       Vol  \n",
       "Price                    -0.009247 -0.176473  \n",
       "Open                     -0.008672 -0.176166  \n",
       "High                     -0.009540 -0.175391  \n",
       "Low                      -0.008520 -0.177346  \n",
       "Change %                 -0.009798 -0.011353  \n",
       "date(MM/DD/YYYY)          1.000000 -0.038931  \n",
       "Vol                      -0.038931  1.000000  "
      ]
     },
     "execution_count": 99,
     "metadata": {},
     "output_type": "execute_result"
    }
   ],
   "source": [
    "dataset_corr=dataset_new.corr()\n",
    "dataset_corr"
   ]
  },
  {
   "cell_type": "code",
   "execution_count": null,
   "id": "cd12b30c-3054-430a-a6a5-ea401e38befb",
   "metadata": {},
   "outputs": [],
   "source": []
  }
 ],
 "metadata": {
  "kernelspec": {
   "display_name": "Python 3 (ipykernel)",
   "language": "python",
   "name": "python3"
  },
  "language_info": {
   "codemirror_mode": {
    "name": "ipython",
    "version": 3
   },
   "file_extension": ".py",
   "mimetype": "text/x-python",
   "name": "python",
   "nbconvert_exporter": "python",
   "pygments_lexer": "ipython3",
   "version": "3.12.1"
  }
 },
 "nbformat": 4,
 "nbformat_minor": 5
}
