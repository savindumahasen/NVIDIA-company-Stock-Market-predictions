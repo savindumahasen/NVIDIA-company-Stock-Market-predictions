{
 "cells": [
  {
   "cell_type": "markdown",
   "id": "fdebc516-69ac-4bc6-a0a8-eac4549a5f4b",
   "metadata": {},
   "source": [
    "##  NVIDIA Company Current Stock Market Price Predictions"
   ]
  },
  {
   "cell_type": "code",
   "execution_count": 1,
   "id": "c2ffa900-832b-4a30-aa29-d83f67b7aa82",
   "metadata": {},
   "outputs": [],
   "source": [
    "## import the necessary libraries\n",
    "import pandas as pd\n",
    "import numpy as np\n",
    "import matplotlib.pyplot as plt\n",
    "import seaborn as sns"
   ]
  },
  {
   "cell_type": "code",
   "execution_count": null,
   "id": "355f3c42-28c3-48b3-a576-90edf2b28b0a",
   "metadata": {},
   "outputs": [],
   "source": []
  }
 ],
 "metadata": {
  "kernelspec": {
   "display_name": "Python 3 (ipykernel)",
   "language": "python",
   "name": "python3"
  },
  "language_info": {
   "codemirror_mode": {
    "name": "ipython",
    "version": 3
   },
   "file_extension": ".py",
   "mimetype": "text/x-python",
   "name": "python",
   "nbconvert_exporter": "python",
   "pygments_lexer": "ipython3",
   "version": "3.12.1"
  }
 },
 "nbformat": 4,
 "nbformat_minor": 5
}
